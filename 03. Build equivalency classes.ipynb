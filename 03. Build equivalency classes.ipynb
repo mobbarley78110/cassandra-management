{
 "cells": [
  {
   "cell_type": "code",
   "execution_count": 1,
   "metadata": {},
   "outputs": [],
   "source": [
    "import pandas as pd\n",
    "import numpy as np\n",
    "from pandas import DataFrame, Series"
   ]
  },
  {
   "cell_type": "code",
   "execution_count": 162,
   "metadata": {},
   "outputs": [],
   "source": [
    "PARTS_MASTER = pd.read_pickle('data/temp02/PARTS_MASTER.pkl')\n",
    "ALTERNATES = pd.read_pickle('data/temp02/ALTERNATES.pkl')\n",
    "PMA_ACCEPTANCE = pd.read_pickle('data/temp02/PMA_ACCEPTANCE.pkl')\n",
    "\n",
    "#remove self equivalent PN\n",
    "ALTERNATES = ALTERNATES[ALTERNATES['PNM'] != ALTERNATES['ALT_PNM']]\n",
    "\n",
    "#remove duplicates\n",
    "ALTERNATES.drop_duplicates(inplace = True)\n",
    "\n",
    "#remove PN not in master\n",
    "ALTERNATES = ALTERNATES[~ALTERNATES['PNM'].isnull()]\n",
    "ALTERNATES = ALTERNATES[~ALTERNATES['ALT_PNM'].isnull()]\n",
    "\n",
    "#all all PN as alternate for themselves\n",
    "SIMPLE_PNM = PARTS_MASTER[['BEST_PNM','PN','CODE','TOTAL_SCORE']].copy()\n",
    "SIMPLE_PNM.drop_duplicates(subset =['BEST_PNM'],inplace = True)\n",
    "SIMPLE_PNM['ALT_PNM'] = SIMPLE_PNM['BEST_PNM']\n",
    "SIMPLE_PNM['ALT_PN'] = SIMPLE_PNM['PN']\n",
    "SIMPLE_PNM['ALT_CODE'] = SIMPLE_PNM['CODE']\n",
    "SIMPLE_PNM.rename(columns={'BEST_PNM':'PNM','TOTAL_SCORE':'ALT_SCORE'},inplace = True)\n",
    "ALTERNATES = ALTERNATES.append(SIMPLE_PNM,sort=False)\n",
    "ALTERNATES.drop_duplicates(inplace = True)\n",
    "ALTERNATES.sort_values(by='ALT_SCORE', ascending = False, inplace = True)\n",
    "\n",
    "#bring top alt to parts_master (top alt is the generic class name)\n",
    "TOP_ALT = ALTERNATES.drop_duplicates(subset=['PNM'],keep='first')\n",
    "PARTS_MASTER = PARTS_MASTER.merge(TOP_ALT[['PNM','ALT_PNM','ALT_CODE']],left_on='BEST_PNM',right_on='PNM',how='left')\n",
    "PARTS_MASTER.drop(columns=['PNM_y'],inplace = True)\n",
    "PARTS_MASTER.rename(columns={'PNM_x':'PNM'},inplace = True)\n",
    "\n",
    "#bring top OEM alt\n",
    "TOP_OEM_ALT = TOP_ALT[TOP_ALT['ALT_CODE'] == 'OE']\n",
    "TOP_ALT = ALTERNATES.drop_duplicates(subset=['PNM'],keep='first')\n",
    "PARTS_MASTER = PARTS_MASTER.merge(TOP_OEM_ALT[['PNM','ALT_PNM']],left_on='BEST_PNM',right_on='PNM',how='left')\n",
    "PARTS_MASTER.drop(columns=['PNM_y'],inplace = True)\n",
    "PARTS_MASTER.rename(columns={'PNM_x':'PNM','ALT_PNM_x':'ALT_PNM','ALT_PNM_y':'ALT_PNM_OE'},inplace = True)\n",
    "\n",
    "#bring top PMA alt\n",
    "TOP_PMA_ALT = TOP_ALT[TOP_ALT['ALT_CODE'] == 'PM']\n",
    "TOP_ALT = ALTERNATES.drop_duplicates(subset=['PNM'],keep='first')\n",
    "PARTS_MASTER = PARTS_MASTER.merge(TOP_PMA_ALT[['PNM','ALT_PNM']],left_on='BEST_PNM',right_on='PNM',how='left')\n",
    "PARTS_MASTER.drop(columns=['PNM_y'],inplace = True)\n",
    "PARTS_MASTER.rename(columns={'PNM_x':'PNM','ALT_PNM_x':'ALT_PNM','ALT_PNM_y':'ALT_PNM_PM'},inplace = True)\n",
    "\n",
    "#save dat file\n",
    "PARTS_MASTER.to_pickle('data/temp03/PARTS_MASTER.pkl')"
   ]
  }
 ],
 "metadata": {
  "kernelspec": {
   "display_name": "Python 3",
   "language": "python",
   "name": "python3"
  },
  "language_info": {
   "codemirror_mode": {
    "name": "ipython",
    "version": 3
   },
   "file_extension": ".py",
   "mimetype": "text/x-python",
   "name": "python",
   "nbconvert_exporter": "python",
   "pygments_lexer": "ipython3",
   "version": "3.7.1"
  }
 },
 "nbformat": 4,
 "nbformat_minor": 2
}
