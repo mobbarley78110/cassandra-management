{
 "cells": [
  {
   "cell_type": "code",
   "execution_count": 1,
   "metadata": {},
   "outputs": [],
   "source": [
    "import pandas as pd\n",
    "import numpy as np\n",
    "from pandas import DataFrame, Series"
   ]
  },
  {
   "cell_type": "code",
   "execution_count": 16,
   "metadata": {},
   "outputs": [],
   "source": [
    "ALTERNATES = pd.read_pickle('data/temp01/ALTERNATES.pkl')\n",
    "PMA_ACCEPTANCE = pd.read_pickle('data/temp01/PMA_ACCEPTANCE.pkl')\n",
    "PARTS_MASTER = pd.read_pickle('data/temp02/PARTS_MASTER.pkl')\n",
    "\n",
    "PARTS_MASTER.drop_duplicates(subset=['PN'],keep='first',inplace = True)\n",
    "\n",
    "#bring real PNM\n",
    "ALTERNATES = ALTERNATES.merge(PARTS_MASTER[['PN','BEST_PNM','CODE']],left_on = 'PN',right_on='PN',how='left')\n",
    "ALTERNATES.drop(columns=['PNM'],inplace = True)\n",
    "ALTERNATES = ALTERNATES.merge(PARTS_MASTER[['PN','BEST_PNM','CODE']],left_on = 'ALT_PN',right_on='PN',how='left')\n",
    "ALTERNATES.drop(columns=['ALT_PNM'],inplace = True)\n",
    "ALTERNATES.rename(columns={'PN_x':'PN','PNM_x':'PNM','BEST_PNM':'ALT_PNM','CODE_x':'CODE','CODE_y':'ALT_CODE'},inplace = True)\n",
    "ALTERNATES.drop(columns=['PN_y'],inplace = True)\n",
    "\n",
    "#Bring back PN score to sort alt by best PN\n",
    "ALTERNATES = ALTERNATES.merge(PARTS_MASTER[['BEST_PNM','TOTAL_SCORE']],left_on = 'ALT_PNM',right_on='BEST_PNM',how='left')\n",
    "ALTERNATES.rename(columns={'TOTAL_SCORE':'ALT_SCORE'},inplace = True)\n",
    "ALTERNATES.drop(columns=['BEST_PNM'],inplace = True)\n",
    "ALTERNATES.sort_values(by=['PNM','ALT_SCORE'],ascending=False,inplace =True)\n",
    "\n",
    "#Add PNM to PMA acceptance list\n",
    "PMA_ACCEPTANCE = PMA_ACCEPTANCE.merge(PARTS_MASTER[['PN','PNM']],left_on='PN',right_on='PN',how='left')\n",
    "PMA_ACCEPTANCE.rename(columns={'PN':'LRU_PN','PNM':'LRU_PNM','pma':'PN'},inplace=True)\n",
    "PMA_ACCEPTANCE = PMA_ACCEPTANCE.merge(PARTS_MASTER[['PN','PNM']],left_on='PN',right_on='PN',how='left')\n",
    "\n",
    "#remove missing PN from master\n",
    "#TODO : show the dropped lines to the user\n",
    "PMA_ACCEPTANCE = PMA_ACCEPTANCE[~PMA_ACCEPTANCE['LRU_PNM'].isnull()]\n",
    "PMA_ACCEPTANCE = PMA_ACCEPTANCE[~PMA_ACCEPTANCE['PNM'].isnull()]\n",
    "PMA_ACCEPTANCE.drop_duplicates(inplace=True)\n",
    "\n",
    "\n",
    "PMA_ACCEPTANCE.to_pickle('data/temp02/PMA_ACCEPTANCE.pkl')\n",
    "ALTERNATES.to_pickle('data/temp02/ALTERNATES.pkl')"
   ]
  }
 ],
 "metadata": {
  "kernelspec": {
   "display_name": "Python 3",
   "language": "python",
   "name": "python3"
  },
  "language_info": {
   "codemirror_mode": {
    "name": "ipython",
    "version": 3
   },
   "file_extension": ".py",
   "mimetype": "text/x-python",
   "name": "python",
   "nbconvert_exporter": "python",
   "pygments_lexer": "ipython3",
   "version": "3.7.1"
  }
 },
 "nbformat": 4,
 "nbformat_minor": 2
}
