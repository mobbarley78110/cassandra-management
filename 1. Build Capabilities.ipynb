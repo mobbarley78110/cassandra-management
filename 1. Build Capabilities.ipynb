{
 "cells": [
  {
   "cell_type": "code",
   "execution_count": 41,
   "metadata": {},
   "outputs": [],
   "source": [
    "import pandas as pd\n",
    "import numpy as np\n",
    "from pandas import DataFrame, Series\n",
    "\n",
    "path_in = 'data'\n",
    "path_out = 'data/temp02'"
   ]
  },
  {
   "cell_type": "code",
   "execution_count": 43,
   "metadata": {},
   "outputs": [],
   "source": [
    "#Load files\n",
    "CAPABILITIES = pd.read_pickle('data/temp01/CAPABILITIES.pkl')\n",
    "WO_HEADER = pd.read_pickle('data/temp01\\WO_HEADER.pkl')"
   ]
  },
  {
   "cell_type": "code",
   "execution_count": 44,
   "metadata": {},
   "outputs": [],
   "source": [
    "TOP_LRUs = WO_HEADER.pivot_table(aggfunc=len, values='WONO', index=['PN','GEO_CODE'])\n",
    "TOP_LRUs.sort_values(inplace=True, by ='WONO',ascending=False)"
   ]
  },
  {
   "cell_type": "code",
   "execution_count": 45,
   "metadata": {},
   "outputs": [],
   "source": [
    "VOLUME_PER_GEO_CODE = WO_HEADER.pivot_table(aggfunc=len, values='WONO', columns=['PN'], index='GEO_CODE')\n",
    "LIST_LRUS = pd.DataFrame(index = WO_HEADER['PN'].unique(), columns=['TOP_SHOP_1','TOP_SHOP_2','TOP_SHOP_3'])\n",
    "for column in VOLUME_PER_GEO_CODE:\n",
    "    LIST_LRUS['TOP_SHOP_1'][column]= VOLUME_PER_GEO_CODE[column].idxmax() #assign top shop\n",
    "    VOLUME_PER_GEO_CODE[column][VOLUME_PER_GEO_CODE[column].idxmax()] = np.NaN #change top shop value to 0 to then test next top shop\n",
    "    LIST_LRUS['TOP_SHOP_2'][column]= VOLUME_PER_GEO_CODE[column].idxmax() #assign top shop\n",
    "    VOLUME_PER_GEO_CODE[column][VOLUME_PER_GEO_CODE[column].idxmax()] = np.NaN\n",
    "    LIST_LRUS['TOP_SHOP_3'][column]= VOLUME_PER_GEO_CODE[column].idxmax() #assign top shop\n",
    "    VOLUME_PER_GEO_CODE[column][VOLUME_PER_GEO_CODE[column].idxmax()] = np.NaN"
   ]
  },
  {
   "cell_type": "code",
   "execution_count": 30,
   "metadata": {},
   "outputs": [],
   "source": [
    "#test if WO_HEADER cap is still active\n",
    "#if not > Assign a new one.\n",
    "\n"
   ]
  },
  {
   "cell_type": "code",
   "execution_count": 46,
   "metadata": {},
   "outputs": [],
   "source": [
    "TEST_DATA = pd.merge(WO_HEADER, CAPABILITIES,  how='left', left_on=['PN','GEO_CODE'], right_on = ['PN','GEO_CODE'] )"
   ]
  },
  {
   "cell_type": "code",
   "execution_count": 52,
   "metadata": {},
   "outputs": [
    {
     "data": {
      "text/plain": [
       "array([ 1.,  0., nan])"
      ]
     },
     "execution_count": 52,
     "metadata": {},
     "output_type": "execute_result"
    }
   ],
   "source": [
    "TEST_DATA['IS_ACTIVE'].unique()"
   ]
  },
  {
   "cell_type": "code",
   "execution_count": 59,
   "metadata": {
    "scrolled": false
   },
   "outputs": [
    {
     "data": {
      "text/plain": [
       "array(['SH 3 ELE/MEC BI', 'SH 2 AVIONICS B', 'SH 7 OXY BIC',\n",
       "       'SH 12 ATEC BIC', 'SUB BIC', 'SH REWIND ARO', 'SH HARNESS ARO',\n",
       "       'SH SLI/OXY ARO', 'SH ATEC SDF', 'SH 3 ELE/MEC PHX',\n",
       "       'SH 12 ATEC PH', 'SH GSE PHX', 'SH AVIONIC ARO', 'SH ELE/FUE ARO',\n",
       "       'STOCKROOM AERO', 'SH IDG ARO', 'SH HYD/PDU ARO', 'SH PNE/TRA ARO',\n",
       "       'SHIPPING RECEIVING ARO DOR', 'MACHINE SHOP ARO',\n",
       "       'ENGINEERING ARO', nan], dtype=object)"
      ]
     },
     "execution_count": 59,
     "metadata": {},
     "output_type": "execute_result"
    }
   ],
   "source": [
    "TEST_DATA[TEST_DATA['IS_ACTIVE'].isnull()]['DEPT_NAME'].unique()"
   ]
  },
  {
   "cell_type": "code",
   "execution_count": null,
   "metadata": {},
   "outputs": [],
   "source": [
    "#building catalog -- will only take parts that actually have been consummed on WO or SO\n",
    "\n",
    "#create consumption file\n",
    "MASTER = pd.DataFrame(np.concatenate((WO_BOM['ITEM'].unique(), SALES_ORDER['PN'].unique())\n",
    "                                     , axis=0), columns=['PN'])\n",
    "MASTER = MASTER.drop_duplicates()\n",
    "MASTER = MASTER.reindex()\n",
    "#build consumption file\n",
    "# PN | min date req | max date dropped | qty req | qty issued | qty pending | cons type | geo_code\n",
    "\n",
    "\n",
    "#change geo code for moved capability\n",
    "#see if active cap exists:"
   ]
  }
 ],
 "metadata": {
  "kernelspec": {
   "display_name": "Python 3",
   "language": "python",
   "name": "python3"
  },
  "language_info": {
   "codemirror_mode": {
    "name": "ipython",
    "version": 3
   },
   "file_extension": ".py",
   "mimetype": "text/x-python",
   "name": "python",
   "nbconvert_exporter": "python",
   "pygments_lexer": "ipython3",
   "version": "3.7.1"
  }
 },
 "nbformat": 4,
 "nbformat_minor": 2
}
