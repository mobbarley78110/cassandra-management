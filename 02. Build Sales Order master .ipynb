{
 "cells": [
  {
   "cell_type": "code",
   "execution_count": 2,
   "metadata": {},
   "outputs": [],
   "source": [
    "import pandas as pd\n",
    "import numpy as np\n",
    "from pandas import DataFrame, Series\n",
    "\n",
    "PERIOD = 365 #used to NOT count first sales during this period -- in DAYS"
   ]
  },
  {
   "cell_type": "code",
   "execution_count": 70,
   "metadata": {},
   "outputs": [],
   "source": [
    "#Load files\n",
    "SALES_ORDERS = pd.read_pickle('data/temp01/SALES_ORDERS.pkl')\n",
    "PARTS_MASTER = pd.read_pickle('data/temp01/PARTS_MASTER.pkl')\n",
    "DISTRIB_PARTS = pd.read_pickle('data/temp01/DISTRIB_PARTS.pkl')\n",
    "EXCLUD_PARTS_SO = pd.read_pickle('data/temp01/EXCLUD_PARTS_SO.pkl')\n",
    "EXCLUD_CLIENT_SO = pd.read_pickle('data/temp01/EXCLUD_CLIENT_SO.pkl')\n",
    "EXCLUD_SO = pd.read_pickle('data/temp01/EXCLUD_SO.pkl')\n",
    "\n",
    "SALES_ORDERS['COMMENT'] = np.NaN\n",
    "\n",
    "#check against parts master\n",
    "PARTS_MASTER.drop(columns = ['DESCRIPTION','PNM','CLASS','LIST_PRICE','PRICEDATE','CODE','MFG'],inplace = True)\n",
    "PARTS_MASTER.drop_duplicates(subset = 'PN', inplace = True, keep = 'last')\n",
    "SALES_ORDERS = SALES_ORDERS.merge(PARTS_MASTER, left_on = 'PN',right_on = 'PN', how = 'left')\n",
    "SALES_ORDERS['COMMENT'] = np.where(SALES_ORDERS['STC'].isnull(), 'TO WARN: PN NOT IN MASTER', SALES_ORDERS['COMMENT'])\n",
    "\n",
    "#check against excluded SO list\n",
    "EXCLUD_SO.drop(columns = ['DateAdded'],inplace = True)\n",
    "EXCLUD_SO.drop_duplicates(subset='SO',inplace= True)\n",
    "EXCLUD_SO.rename(columns={'Comment':'COMMENT_EXC_SO','SO':'SONO'},inplace = True)\n",
    "SALES_ORDERS = SALES_ORDERS.merge(EXCLUD_SO, left_on = 'SONO',right_on = 'SONO', how = 'left')\n",
    "\n",
    "#check against excluded SO PN list \n",
    "EXCLUD_PARTS_SO.drop(columns = ['DateAdded','Description'],inplace = True)\n",
    "EXCLUD_PARTS_SO.drop_duplicates(subset='PN',inplace= True)\n",
    "EXCLUD_PARTS_SO.rename(columns={'Comment':'COMMENT_EXC_PN_SO'},inplace = True)\n",
    "SALES_ORDERS = SALES_ORDERS.merge(EXCLUD_PARTS_SO, left_on = 'PN',right_on = 'PN', how = 'left')\n",
    "\n",
    "\n",
    "#check against excluded SO Customer list \n",
    "EXCLUD_CLIENT_SO.drop(columns = ['DateAdded'],inplace = True)\n",
    "EXCLUD_CLIENT_SO.drop_duplicates(subset='ClientId',inplace= True)\n",
    "EXCLUD_CLIENT_SO.rename(columns={'Comment':'COMMENT_EXC_CUST_SO','ClientId':'CUSTNO'},inplace = True)\n",
    "SALES_ORDERS = SALES_ORDERS.merge(EXCLUD_CLIENT_SO, left_on = 'CUSTNO',right_on = 'CUSTNO', how = 'left')\n",
    "\n",
    "\n",
    "#check against Distribution list\n",
    "DISTRIB_PARTS.drop(columns=['PNM','DESCRIPTION','OEM','CAGE_CODE'], inplace= True)\n",
    "DISTRIB_PARTS.drop_duplicates(subset='PN',inplace = True)\n",
    "DISTRIB_PARTS['IS_DISTRIB_PART'] = 1\n",
    "SALES_ORDERS = SALES_ORDERS.merge(DISTRIB_PARTS, left_on = 'PN',right_on = 'PN', how = 'left')\n",
    "SALES_ORDERS['IS_DISTRIB_PART'] = SALES_ORDERS['IS_DISTRIB_PART'].fillna(0)\n",
    "\n",
    "#remove ZNEG sales\n",
    "SALES_ORDERS['COMMENT'] = np.where(SALES_ORDERS['ZNEG'] == 'ZNEG', 'TO REMOVE: ZNEG', SALES_ORDERS['COMMENT'])\n",
    "SALES_ORDERS['COMMENT'] = np.where(SALES_ORDERS['ZNEG'] == 'ZNEG', 'TO REMOVE: ZNEG', SALES_ORDERS['COMMENT'])\n",
    "\n",
    "#do not count first time sale within the PERIOD\n",
    "SALES_ORDERS.sort_values(by = ['ENTRY_DATE','PN'], ascending = True, inplace = True)\n"
   ]
  }
 ],
 "metadata": {
  "kernelspec": {
   "display_name": "Python 3",
   "language": "python",
   "name": "python3"
  },
  "language_info": {
   "codemirror_mode": {
    "name": "ipython",
    "version": 3
   },
   "file_extension": ".py",
   "mimetype": "text/x-python",
   "name": "python",
   "nbconvert_exporter": "python",
   "pygments_lexer": "ipython3",
   "version": "3.7.1"
  }
 },
 "nbformat": 4,
 "nbformat_minor": 2
}
